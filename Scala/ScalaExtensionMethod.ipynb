{
 "cells": [
  {
   "cell_type": "code",
   "execution_count": 1,
   "metadata": {
    "collapsed": false
   },
   "outputs": [
    {
     "name": "stdout",
     "output_type": "stream",
     "text": [
      "Endpoint:\n",
      "\thttp://hn0-spark1.drd1ytvzbg4upmyutmhhfsvgmd.jx.internal.cloudapp.net:8998\n",
      "\n",
      "Current session ID number:\n",
      "\tNone\n",
      "\n",
      "Session configs:\n",
      "\t{u'jars': [u'wasb:///example/jars/sqljdbc41.jar'], 'kind': 'spark'}\n",
      "\n",
      "Info for endpoint:\n",
      "    Sessions:\n",
      "\n",
      "\n"
     ]
    }
   ],
   "source": [
    "%%configure -f { \"jars\": [\"wasb:///example/jars/sqljdbc41.jar\"] }"
   ]
  },
  {
   "cell_type": "code",
   "execution_count": 2,
   "metadata": {
    "collapsed": false
   },
   "outputs": [
    {
     "name": "stdout",
     "output_type": "stream",
     "text": [
      "Creating SparkContext as 'sc'\n",
      "Creating SqlContext as 'sqlContext'\n",
      "Creating HiveContext as 'hiveContext'\n",
      "defined class Rectangle"
     ]
    }
   ],
   "source": [
    "case class Rectangle(name: String, width: Double, height: Double)"
   ]
  },
  {
   "cell_type": "code",
   "execution_count": 3,
   "metadata": {
    "collapsed": false
   },
   "outputs": [
    {
     "name": "stdout",
     "output_type": "stream",
     "text": [
      "defined module DatabaseUtilities"
     ]
    }
   ],
   "source": [
    "object DatabaseUtilities {\n",
    "\n",
    "  def getSqlJdbcConnectionString(sqlServerFQDN: String, sqlDatabaseName: String,\n",
    "                             databaseUsername: String, databasePassword: String): String = {\n",
    "\n",
    "    val serverName = sqlServerFQDN.split('.')(0)\n",
    "    val certificateHostname = sqlServerFQDN.replace(serverName, \"*\")\n",
    "    val serverPort = \"1433\"\n",
    "\n",
    "    val sqlDatabaseConnectionString = f\"jdbc:sqlserver://$sqlServerFQDN:$serverPort;database=$sqlDatabaseName;\" +\n",
    "      f\"user=$databaseUsername@$serverName;password=$databasePassword;\" +\n",
    "      f\"encrypt=true;hostNameInCertificate=$certificateHostname;loginTimeout=30;\"\n",
    "\n",
    "    sqlDatabaseConnectionString\n",
    "  }\n",
    "}"
   ]
  },
  {
   "cell_type": "code",
   "execution_count": 12,
   "metadata": {
    "collapsed": false
   },
   "outputs": [
    {
     "name": "stdout",
     "output_type": "stream",
     "text": [
      "res24: String = jdbc:sqlserver://<SQL Sever FQDN>:1433;database=<SQL Database Name>;user=<SQL Database User Name>@<SQL Sever FQDN>;password=<SQL Database User Password>;encrypt=true;hostNameInCertificate=*;loginTimeout=30;"
     ]
    }
   ],
   "source": [
    "val sqlServerFQDN = \"<SQL Sever FQDN>\"\n",
    "val sqlDatabaseName = \"<SQL Database Name>\"\n",
    "val databaseUsername = \"<SQL Database User Name>\"\n",
    "val databasePassword = \"<SQL Database User Password>\"\n",
    "val databaseTableName = \"RectangleDetails\"\n",
    "\n",
    " val sqlDatabaseConnectionString : String = DatabaseUtilities.getSqlJdbcConnectionString(\n",
    "      sqlServerFQDN, sqlDatabaseName, databaseUsername, databasePassword)\n",
    "      \n",
    "sqlDatabaseConnectionString\n"
   ]
  },
  {
   "cell_type": "code",
   "execution_count": 5,
   "metadata": {
    "collapsed": false
   },
   "outputs": [],
   "source": [
    "import java.sql.{Statement, Connection, DriverManager}\n",
    "\n",
    "val sqlDriverConnection: Connection =  DriverManager.getConnection(sqlDatabaseConnectionString)\n",
    "\n",
    "sqlDriverConnection.setAutoCommit(false)\n",
    "\n",
    "val sqlDriverStatement: Statement = sqlDriverConnection.createStatement()\n",
    "\n",
    "sqlDriverStatement.addBatch(f\"IF NOT EXISTS(SELECT * FROM sys.objects WHERE object_id\" +\n",
    "    f\" = OBJECT_ID(N'[dbo].[$databaseTableName]') AND type in (N'U'))\" +\n",
    "    f\"\\nCREATE TABLE $databaseTableName(Name NVARCHAR(128) NOT NULL, Width FLOAT, Height FLOAT)\")\n",
    "\n",
    "sqlDriverStatement.addBatch(f\"IF IndexProperty(Object_Id('$databaseTableName'), 'IX_RectangleName', 'IndexId') IS NULL\" +\n",
    "    f\"\\nCREATE CLUSTERED INDEX IX_RectangleName ON $databaseTableName(Name)\")\n",
    "    \n",
    "sqlDriverStatement.executeBatch()\n",
    "sqlDriverConnection.commit()\n",
    "\n",
    "sqlDriverConnection.close()"
   ]
  },
  {
   "cell_type": "code",
   "execution_count": 7,
   "metadata": {
    "collapsed": false
   },
   "outputs": [
    {
     "name": "stdout",
     "output_type": "stream",
     "text": [
      "warning: there were 1 feature warning(s); re-run with -feature for details\n",
      "defined module DataFrameExtensions"
     ]
    }
   ],
   "source": [
    "import org.apache.spark.sql.DataFrame\n",
    "\n",
    "object DataFrameExtensions {\n",
    "\n",
    "  implicit def extendedDataFrame(dataFrame: DataFrame): ExtendedDataFrame = new ExtendedDataFrame(dataFrame: DataFrame)\n",
    "\n",
    "  class ExtendedDataFrame(dataFrame: DataFrame) {\n",
    "\n",
    "    def saveToAzureSql(sqlDatabaseConnectionString: String, sqlTableName: String): Unit = {\n",
    "\n",
    "      val tableHeader: String = dataFrame.columns.mkString(\",\")\n",
    "\n",
    "      val recordFormat: scala.collection.mutable.StringBuilder = new scala.collection.mutable.StringBuilder()\n",
    "\n",
    "      dataFrame.dtypes.foreach(x => {\n",
    "\n",
    "        x._2 match {\n",
    "\n",
    "          case \"StringType\" => recordFormat.append(\"'%s',\")\n",
    "\n",
    "          case _ => recordFormat.append(\"%s,\")\n",
    "        }\n",
    "      })\n",
    "\n",
    "      val formatRecord: Seq[Any] => String = recordFormat.stripSuffix(\",\").format\n",
    "\n",
    "      dataFrame.foreachPartition { partition =>\n",
    "\n",
    "        val sqlExecutorConnection: Connection = DriverManager.getConnection(sqlDatabaseConnectionString)\n",
    "\n",
    "        //Batch size of 1000 is used since Azure SQL database cannot insert more than 1000 rows at the same time.\n",
    "\n",
    "        partition.grouped(1000).foreach {\n",
    "\n",
    "          group => {\n",
    "\n",
    "            val insertString: scala.collection.mutable.StringBuilder = new scala.collection.mutable.StringBuilder()\n",
    "\n",
    "            group.foreach {\n",
    "\n",
    "              record => {\n",
    "\n",
    "                insertString.append(\"(\" + formatRecord(record.toSeq) + \"),\")\n",
    "              }\n",
    "            }\n",
    "\n",
    "            sqlExecutorConnection.createStatement().executeUpdate(f\"INSERT INTO [dbo].[$sqlTableName] ($tableHeader) VALUES \"\n",
    "                                                                  + insertString.stripSuffix(\",\"))\n",
    "\n",
    "          }\n",
    "        }\n",
    "\n",
    "        sqlExecutorConnection.close()\n",
    "      }\n",
    "    }\n",
    "  }\n",
    "}"
   ]
  },
  {
   "cell_type": "code",
   "execution_count": 8,
   "metadata": {
    "collapsed": false
   },
   "outputs": [
    {
     "name": "stdout",
     "output_type": "stream",
     "text": [
      "rectangleList: List[Rectangle] = List(Rectangle(RectangleA,10.0,20.0), Rectangle(RectangleB,30.0,40.0), Rectangle(RectangleC,50.0,60.0))"
     ]
    }
   ],
   "source": [
    "val rectangleList: List[Rectangle] = List(Rectangle(\"RectangleA\", 10, 20),\n",
    "Rectangle(\"RectangleB\", 30, 40), Rectangle(\"RectangleC\", 50, 60))"
   ]
  },
  {
   "cell_type": "code",
   "execution_count": 9,
   "metadata": {
    "collapsed": false
   },
   "outputs": [
    {
     "name": "stdout",
     "output_type": "stream",
     "text": [
      "rectangleDataFrame: org.apache.spark.sql.DataFrame = [name: string, width: double, height: double]"
     ]
    }
   ],
   "source": [
    "val rectangleDataFrame = hiveContext.createDataFrame(rectangleList)"
   ]
  },
  {
   "cell_type": "code",
   "execution_count": 10,
   "metadata": {
    "collapsed": false
   },
   "outputs": [],
   "source": [
    "import DataFrameExtensions._\n",
    "\n",
    "rectangleDataFrame.saveToAzureSql(sqlDatabaseConnectionString, databaseTableName)"
   ]
  },
  {
   "cell_type": "code",
   "execution_count": null,
   "metadata": {
    "collapsed": true
   },
   "outputs": [],
   "source": []
  }
 ],
 "metadata": {
  "kernelspec": {
   "display_name": "Spark",
   "language": "",
   "name": "sparkkernel"
  },
  "language_info": {
   "mimetype": "text/x-scala",
   "name": "scala",
   "pygments_lexer": "scala"
  }
 },
 "nbformat": 4,
 "nbformat_minor": 0
}
