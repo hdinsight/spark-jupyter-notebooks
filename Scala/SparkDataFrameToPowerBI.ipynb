{
 "cells": [
  {
   "cell_type": "code",
   "execution_count": null,
   "metadata": {
    "collapsed": false
   },
   "outputs": [],
   "source": [
    "%%configure -f { \"jars\": [\"wasb:///example/jars/adal4j-1.1.2.jar\", \"wasb:///example/jars/microsoft-spark-powerbi-connector.jar\"] }"
   ]
  },
  {
   "cell_type": "code",
   "execution_count": null,
   "metadata": {
    "collapsed": false
   },
   "outputs": [],
   "source": [
    "case class Circle(name: String, radius: Double)"
   ]
  },
  {
   "cell_type": "code",
   "execution_count": null,
   "metadata": {
    "collapsed": false
   },
   "outputs": [],
   "source": [
    "import scala.collection.mutable.ListBuffer\n",
    "\n",
    "val randomGenerator = scala.util.Random\n",
    "\n",
    "val circleListBuffer: ListBuffer[Circle] = new ListBuffer\n",
    "\n",
    "for (i <- 1 to 5) {\n",
    "\n",
    "    circleListBuffer += new Circle(f\"Circle$i\", randomGenerator.nextInt(100))\n",
    "}"
   ]
  },
  {
   "cell_type": "code",
   "execution_count": null,
   "metadata": {
    "collapsed": false
   },
   "outputs": [],
   "source": [
    "val circleDataFrame = hiveContext.createDataFrame(circleListBuffer.toList)\n",
    "\n",
    "circleDataFrame.take(5)"
   ]
  },
  {
   "cell_type": "code",
   "execution_count": null,
   "metadata": {
    "collapsed": false
   },
   "outputs": [],
   "source": [
    "import scala.math\n",
    "import org.apache.spark.sql.functions._\n",
    "\n",
    "val computeCircleArea = udf((circleRadius: Double) => {\n",
    "    \n",
    "    math.Pi * circleRadius * circleRadius\n",
    "})"
   ]
  },
  {
   "cell_type": "code",
   "execution_count": null,
   "metadata": {
    "collapsed": false
   },
   "outputs": [],
   "source": [
    "val updatedCircleDataFrame = circleDataFrame.withColumn(\"area\", computeCircleArea(circleDataFrame(\"radius\")))"
   ]
  },
  {
   "cell_type": "code",
   "execution_count": null,
   "metadata": {
    "collapsed": false
   },
   "outputs": [],
   "source": [
    "val powerbiCircleDataFrame = updatedCircleDataFrame.select(\"radius\", \"area\")\n",
    "\n",
    "powerbiCircleDataFrame.take(5)"
   ]
  },
  {
   "cell_type": "code",
   "execution_count": null,
   "metadata": {
    "collapsed": false
   },
   "outputs": [],
   "source": [
    "import com.microsoft.spark.powerbi.authentication._\n",
    "import com.microsoft.spark.powerbi.models._\n",
    "import com.microsoft.spark.powerbi.common._\n",
    "\n",
    "val powerbiClientId = \"***Enter PowerBI Client Id here***\" \n",
    "val powerbiAccountUsername = \"***Enter PowerBI Account Username here***\"\n",
    "val powerbiAccountPassword = \"***Enter PowerBI Account Password here***\"\n",
    "\n",
    "def initializeAuthentication(): PowerBIAuthentication = {\n",
    "\n",
    "    val powerBIAuthentication: PowerBIAuthentication = new PowerBIAuthentication(\n",
    "      PowerBIURLs.Authority,\n",
    "      PowerBIURLs.Resource,\n",
    "      powerbiClientId,\n",
    "      powerbiAccountUsername,\n",
    "      powerbiAccountPassword\n",
    "    )\n",
    "\n",
    "    powerBIAuthentication\n",
    "}"
   ]
  },
  {
   "cell_type": "code",
   "execution_count": null,
   "metadata": {
    "collapsed": false
   },
   "outputs": [],
   "source": [
    "//Initialize PowerBI Authentication\n",
    "\n",
    "val powerbiAuthentication: PowerBIAuthentication = initializeAuthentication()\n",
    "\n",
    "//Create PowerBI dataset and table\n",
    "\n",
    "val powerbiTableName = \"CircleRadiusAreaTable\"\n",
    "val powerbiDatasetName = \"CircleDataset\"\n",
    "\n",
    "val circleTableColumns = Map(\"Radius\" -> PowerBIDataTypes.Double.toString(), \"Area\" -> PowerBIDataTypes.Double.toString())\n",
    "\n",
    "val circleTable = PowerBIUtils.defineTable(powerbiTableName, circleTableColumns)\n",
    "\n",
    "val powerbiTableList = List[table](circleTable)\n",
    "\n",
    "val powerbiDatasetDetails = PowerBIUtils.getOrCreateDataset(powerbiDatasetName, powerbiTableList,\n",
    "PowerBIOptions.basicFIFO, powerbiAuthentication.getAccessToken())\n",
    "\n",
    "println(powerbiDatasetDetails)"
   ]
  },
  {
   "cell_type": "code",
   "execution_count": null,
   "metadata": {
    "collapsed": false
   },
   "outputs": [],
   "source": [
    "import com.microsoft.spark.powerbi.extensions.DataFrameExtensions._\n",
    "\n",
    "powerbiCircleDataFrame.toPowerBI(powerbiDatasetDetails, powerbiTableList.head, powerbiAuthentication)"
   ]
  }
 ],
 "metadata": {
  "kernelspec": {
   "display_name": "Spark",
   "language": "",
   "name": "sparkkernel"
  },
  "language_info": {
   "mimetype": "text/x-scala",
   "name": "scala",
   "pygments_lexer": "scala"
  }
 },
 "nbformat": 4,
 "nbformat_minor": 0
}
