{
 "cells": [
  {
   "cell_type": "code",
   "execution_count": null,
   "metadata": {
    "collapsed": false
   },
   "outputs": [],
   "source": [
    "import pyspark\n",
    "from pyspark import SparkConf\n",
    "from pyspark import SparkContext\n",
    "from pyspark.sql import HiveContext\n",
    "from pyspark.sql.types import *\n",
    "from pyspark.sql.functions import udf\n",
    "\n",
    "sparkContext = SparkContext(conf=SparkConf())\n",
    "hiveContext = HiveContext(sparkContext)"
   ]
  },
  {
   "cell_type": "code",
   "execution_count": null,
   "metadata": {
    "collapsed": false
   },
   "outputs": [],
   "source": [
    "rectangleList = [('RectangleA', 10, 20, 30), ('RectangleB', 40, 50, 60), ('RectangleC', 70, 80, 90)]"
   ]
  },
  {
   "cell_type": "code",
   "execution_count": null,
   "metadata": {
    "collapsed": false
   },
   "outputs": [],
   "source": [
    "rectangleDataFrame = hiveContext.createDataFrame(rectangleList, ['RectangleName', 'Height', 'Width', 'DegreeOfRotation'])"
   ]
  },
  {
   "cell_type": "code",
   "execution_count": 47,
   "metadata": {
    "collapsed": false
   },
   "outputs": [
    {
     "data": {
      "text/plain": [
       "[Row(RectangleName=u'RectangleA', Height=10, Width=20, DegreeOfRotation=30, Diagonal=22.360679626464844)]"
      ]
     },
     "execution_count": 47,
     "metadata": {},
     "output_type": "execute_result"
    }
   ],
   "source": [
    "#User defined function for calculating the diagonal of a rectangle\n",
    "\n",
    "from math import *\n",
    "\n",
    "def calculateDiagonal(height, width):\n",
    "    \n",
    "    return sqrt(height * height + width * width)\n",
    "\n",
    "#Define UDF for calculating the length of the diagonal\n",
    "\n",
    "diagonalCalculator = udf(calculateDiagonal, FloatType())\n",
    "\n",
    "#Append the length of the diagonal as a new column to the original data frame \n",
    "\n",
    "rectangleDataFrame = rectangleDataFrame.withColumn(\"Diagonal\", diagonalCalculator(rectangleDataFrame['Height'],\n",
    "                                                                                  rectangleDataFrame['Width']))\n",
    "\n",
    "rectangleDataFrame.take(1)"
   ]
  },
  {
   "cell_type": "code",
   "execution_count": null,
   "metadata": {
    "collapsed": false
   },
   "outputs": [],
   "source": [
    "#User defined function to generate clockwise rotation matrix from the degree of rotation\n",
    "\n",
    "from pyspark.mllib.linalg import Matrix, Matrices\n",
    "\n",
    "#User defined function for generating the clockwise rotation matrix\n",
    "\n",
    "def generateClockwiseRotationMatrix(theta):\n",
    "    \n",
    "    return Matrices.dense(2, 2, [cos(theta), sin(theta), -1.0 * sin(theta), cos(theta)])\n"
   ]
  },
  {
   "cell_type": "code",
   "execution_count": 48,
   "metadata": {
    "collapsed": false
   },
   "outputs": [
    {
     "data": {
      "text/plain": [
       "[Row(RectangleName=u'RectangleA', Height=10, Width=20, DegreeOfRotation=30, Diagonal=22.360679626464844, ClockwiseRotationMatrix=DenseMatrix(2, 2, [0.1543, -0.988, 0.988, 0.1543], False))]"
      ]
     },
     "execution_count": 48,
     "metadata": {},
     "output_type": "execute_result"
    }
   ],
   "source": [
    "#Append the clockwise rotation matrix as a new column to the original data frame\n",
    "\n",
    "#Procedural programmer's way of thinking\n",
    "\n",
    "collectedRows = rectangleDataFrame.select('RectangleName', 'DegreeOfRotation').rdd.collect()\n",
    "\n",
    "from pyspark.sql import Row\n",
    "\n",
    "newColumnName = 'ClockwiseRotationMatrix'\n",
    "\n",
    "#Add the new clockwise rotation matrix column to each collected row\n",
    "\n",
    "newRows = [row + Row(newColumnName=generateClockwiseRotationMatrix(row[1])) for row in collectedRows]\n",
    "\n",
    "#Parallelize the new rows to get a new RDD. Number of partition can be specified optionally but skipped here.\n",
    "\n",
    "newRDD = sparkContext.parallelize(newRows)\n",
    "\n",
    "#Create a new data frame with three columns\n",
    "\n",
    "newDataFrame = hiveContext.createDataFrame(newRDD, ['RectangleName', 'DegreeOfRotation', newColumnName])\n",
    "\n",
    "#Join the new data frame to the original data frame and drop the extra columns which got repeated.\n",
    "\n",
    "newRectangleDataFrame = rectangleDataFrame.join(\n",
    "    newDataFrame, rectangleDataFrame['RectangleName'] == newDataFrame['RectangleName'], 'inner').drop(\n",
    "    newDataFrame['RectangleName']).drop(newDataFrame['DegreeOfRotation'])\n",
    "\n",
    "newRectangleDataFrame.take(1)"
   ]
  },
  {
   "cell_type": "code",
   "execution_count": 49,
   "metadata": {
    "collapsed": false
   },
   "outputs": [
    {
     "data": {
      "text/plain": [
       "[Row(RectangleName=u'RectangleA', Height=10, Width=20, DegreeOfRotation=30, Diagonal=22.360679626464844, ClockwiseRotationMatrix=DenseMatrix(2, 2, [0.1543, -0.988, 0.988, 0.1543], False))]"
      ]
     },
     "execution_count": 49,
     "metadata": {},
     "output_type": "execute_result"
    }
   ],
   "source": [
    "#Spark programmer's way of thinking\n",
    "\n",
    "columnIndex = rectangleDataFrame.columns.index('DegreeOfRotation')\n",
    "\n",
    "newColumnList = rectangleDataFrame.columns\n",
    "newColumnList.insert(len(newColumnList), newColumnName)\n",
    "\n",
    "#Append the clockwise rotation matrix to each row of the original data frame which returns a pipeline RDD, convert the\n",
    "#pipeline RDD to a new data frame and impose the updated column names.\n",
    "\n",
    "newRectangleDataFrame = rectangleDataFrame.map(lambda row:\n",
    "        (row + Row(generateClockwiseRotationMatrix(row[columnIndex])))).toDF(newColumnList)\n",
    "\n",
    "newRectangleDataFrame.take(1)"
   ]
  }
 ],
 "metadata": {
  "kernelspec": {
   "display_name": "Python 2",
   "language": "python",
   "name": "python2"
  },
  "language_info": {
   "codemirror_mode": {
    "name": "ipython",
    "version": 2
   },
   "file_extension": ".py",
   "mimetype": "text/x-python",
   "name": "python",
   "nbconvert_exporter": "python",
   "pygments_lexer": "ipython2",
   "version": "2.7.11"
  }
 },
 "nbformat": 4,
 "nbformat_minor": 0
}
